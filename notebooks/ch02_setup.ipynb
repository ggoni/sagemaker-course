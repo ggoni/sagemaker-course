{
 "cells": [
  {
   "cell_type": "markdown",
   "metadata": {},
   "source": [
    "# Chapter 02. Setting Up Your Development Environment"
   ]
  },
  {
   "cell_type": "code",
   "execution_count": 3,
   "metadata": {},
   "outputs": [],
   "source": [
    "import boto3"
   ]
  },
  {
   "cell_type": "code",
   "execution_count": 7,
   "metadata": {},
   "outputs": [],
   "source": [
    "BUCKET = 'sagemaker-course-20200517'\n",
    "\n",
    "boto_session = boto3.Session()\n",
    "\n",
    "try:\n",
    "    if boto_session.region_name == \"us-east-1\":\n",
    "        boto_session.client('s3').create_bucket(Bucket=BUCKET)\n",
    "    else:\n",
    "        boto_session.client('s3').create_bucket(\n",
    "            Bucket=BUCKET,\n",
    "            CreateBucketConfiguration={'LocationConstraint': boto_session.region_name})\n",
    "except Exception as e:\n",
    "    print(e)"
   ]
  }
 ],
 "metadata": {
  "kernelspec": {
   "display_name": "Python 3 (Data Science)",
   "language": "python",
   "name": "python3__SAGEMAKER_INTERNAL__arn:aws:sagemaker:us-east-2:429704687514:image/datascience-1.0"
  },
  "language_info": {
   "codemirror_mode": {
    "name": "ipython",
    "version": 3
   },
   "file_extension": ".py",
   "mimetype": "text/x-python",
   "name": "python",
   "nbconvert_exporter": "python",
   "pygments_lexer": "ipython3",
   "version": "3.7.6"
  }
 },
 "nbformat": 4,
 "nbformat_minor": 4
}
